{
 "cells": [
  {
   "cell_type": "markdown",
   "id": "ab410732",
   "metadata": {},
   "source": [
    "Use the Boston dataset (Click here to download the Boston dataset) and perform the following activities:\n",
    "\n",
    "1.    Consider the column, ‘RM’, as predictor, and ‘MEDV’ as the target variable\n",
    "\n",
    "2.    Visualize the association between the predictor and the target using scatter plot.\n",
    "\n",
    "3.    Split the data into train and test datasets, in the ratio of 67:33.\n",
    "\n",
    "4.    Build a Linear Regression model using training dataset, to predict the target variable.\n",
    "\n",
    "5.    Observe the coefficient and intercept values for the model.\n",
    "\n",
    "6.    Evaluate the model using mean squared error values and R-squared values on the training and the testing datasets."
   ]
  },
  {
   "cell_type": "code",
   "execution_count": 133,
   "id": "27d3a8d2",
   "metadata": {},
   "outputs": [],
   "source": [
    "import pandas as pd\n",
    "import matplotlib.pyplot as plt\n",
    "import numpy as np\n",
    "from sklearn.model_selection import train_test_split"
   ]
  },
  {
   "cell_type": "code",
   "execution_count": 134,
   "id": "e2bf3fc2",
   "metadata": {},
   "outputs": [],
   "source": [
    "data=pd.read_csv(\"boston_housing.csv\")"
   ]
  },
  {
   "cell_type": "code",
   "execution_count": 135,
   "id": "2fd151ee",
   "metadata": {},
   "outputs": [
    {
     "data": {
      "text/html": [
       "<div>\n",
       "<style scoped>\n",
       "    .dataframe tbody tr th:only-of-type {\n",
       "        vertical-align: middle;\n",
       "    }\n",
       "\n",
       "    .dataframe tbody tr th {\n",
       "        vertical-align: top;\n",
       "    }\n",
       "\n",
       "    .dataframe thead th {\n",
       "        text-align: right;\n",
       "    }\n",
       "</style>\n",
       "<table border=\"1\" class=\"dataframe\">\n",
       "  <thead>\n",
       "    <tr style=\"text-align: right;\">\n",
       "      <th></th>\n",
       "      <th>CRIM</th>\n",
       "      <th>ZN</th>\n",
       "      <th>INDUS</th>\n",
       "      <th>CHAS</th>\n",
       "      <th>NOX</th>\n",
       "      <th>RM</th>\n",
       "      <th>AGE</th>\n",
       "      <th>DIS</th>\n",
       "      <th>RAD</th>\n",
       "      <th>TAX</th>\n",
       "      <th>PTRATIO</th>\n",
       "      <th>B</th>\n",
       "      <th>LSTAT</th>\n",
       "      <th>MEDV</th>\n",
       "    </tr>\n",
       "  </thead>\n",
       "  <tbody>\n",
       "    <tr>\n",
       "      <th>0</th>\n",
       "      <td>0.00632</td>\n",
       "      <td>18.0</td>\n",
       "      <td>2.31</td>\n",
       "      <td>0</td>\n",
       "      <td>0.538</td>\n",
       "      <td>6.575</td>\n",
       "      <td>65.2</td>\n",
       "      <td>4.0900</td>\n",
       "      <td>1</td>\n",
       "      <td>296</td>\n",
       "      <td>15.3</td>\n",
       "      <td>396.90</td>\n",
       "      <td>4.98</td>\n",
       "      <td>24.0</td>\n",
       "    </tr>\n",
       "    <tr>\n",
       "      <th>1</th>\n",
       "      <td>0.02731</td>\n",
       "      <td>0.0</td>\n",
       "      <td>7.07</td>\n",
       "      <td>0</td>\n",
       "      <td>0.469</td>\n",
       "      <td>6.421</td>\n",
       "      <td>78.9</td>\n",
       "      <td>4.9671</td>\n",
       "      <td>2</td>\n",
       "      <td>242</td>\n",
       "      <td>17.8</td>\n",
       "      <td>396.90</td>\n",
       "      <td>9.14</td>\n",
       "      <td>21.6</td>\n",
       "    </tr>\n",
       "    <tr>\n",
       "      <th>2</th>\n",
       "      <td>0.02729</td>\n",
       "      <td>0.0</td>\n",
       "      <td>7.07</td>\n",
       "      <td>0</td>\n",
       "      <td>0.469</td>\n",
       "      <td>7.185</td>\n",
       "      <td>61.1</td>\n",
       "      <td>4.9671</td>\n",
       "      <td>2</td>\n",
       "      <td>242</td>\n",
       "      <td>17.8</td>\n",
       "      <td>392.83</td>\n",
       "      <td>4.03</td>\n",
       "      <td>34.7</td>\n",
       "    </tr>\n",
       "    <tr>\n",
       "      <th>3</th>\n",
       "      <td>0.03237</td>\n",
       "      <td>0.0</td>\n",
       "      <td>2.18</td>\n",
       "      <td>0</td>\n",
       "      <td>0.458</td>\n",
       "      <td>6.998</td>\n",
       "      <td>45.8</td>\n",
       "      <td>6.0622</td>\n",
       "      <td>3</td>\n",
       "      <td>222</td>\n",
       "      <td>18.7</td>\n",
       "      <td>394.63</td>\n",
       "      <td>2.94</td>\n",
       "      <td>33.4</td>\n",
       "    </tr>\n",
       "    <tr>\n",
       "      <th>4</th>\n",
       "      <td>0.06905</td>\n",
       "      <td>0.0</td>\n",
       "      <td>2.18</td>\n",
       "      <td>0</td>\n",
       "      <td>0.458</td>\n",
       "      <td>7.147</td>\n",
       "      <td>54.2</td>\n",
       "      <td>6.0622</td>\n",
       "      <td>3</td>\n",
       "      <td>222</td>\n",
       "      <td>18.7</td>\n",
       "      <td>396.90</td>\n",
       "      <td>5.33</td>\n",
       "      <td>36.2</td>\n",
       "    </tr>\n",
       "  </tbody>\n",
       "</table>\n",
       "</div>"
      ],
      "text/plain": [
       "      CRIM    ZN  INDUS  CHAS    NOX     RM   AGE     DIS  RAD  TAX  PTRATIO  \\\n",
       "0  0.00632  18.0   2.31     0  0.538  6.575  65.2  4.0900    1  296     15.3   \n",
       "1  0.02731   0.0   7.07     0  0.469  6.421  78.9  4.9671    2  242     17.8   \n",
       "2  0.02729   0.0   7.07     0  0.469  7.185  61.1  4.9671    2  242     17.8   \n",
       "3  0.03237   0.0   2.18     0  0.458  6.998  45.8  6.0622    3  222     18.7   \n",
       "4  0.06905   0.0   2.18     0  0.458  7.147  54.2  6.0622    3  222     18.7   \n",
       "\n",
       "        B  LSTAT  MEDV  \n",
       "0  396.90   4.98  24.0  \n",
       "1  396.90   9.14  21.6  \n",
       "2  392.83   4.03  34.7  \n",
       "3  394.63   2.94  33.4  \n",
       "4  396.90   5.33  36.2  "
      ]
     },
     "execution_count": 135,
     "metadata": {},
     "output_type": "execute_result"
    }
   ],
   "source": [
    "data.head()"
   ]
  },
  {
   "cell_type": "code",
   "execution_count": 136,
   "id": "ad6a3973",
   "metadata": {},
   "outputs": [
    {
     "name": "stdout",
     "output_type": "stream",
     "text": [
      "<class 'pandas.core.frame.DataFrame'>\n",
      "RangeIndex: 506 entries, 0 to 505\n",
      "Data columns (total 14 columns):\n",
      " #   Column   Non-Null Count  Dtype  \n",
      "---  ------   --------------  -----  \n",
      " 0   CRIM     506 non-null    float64\n",
      " 1   ZN       506 non-null    float64\n",
      " 2   INDUS    506 non-null    float64\n",
      " 3   CHAS     506 non-null    int64  \n",
      " 4   NOX      506 non-null    float64\n",
      " 5   RM       506 non-null    float64\n",
      " 6   AGE      506 non-null    float64\n",
      " 7   DIS      506 non-null    float64\n",
      " 8   RAD      506 non-null    int64  \n",
      " 9   TAX      506 non-null    int64  \n",
      " 10  PTRATIO  506 non-null    float64\n",
      " 11  B        506 non-null    float64\n",
      " 12  LSTAT    506 non-null    float64\n",
      " 13  MEDV     506 non-null    float64\n",
      "dtypes: float64(11), int64(3)\n",
      "memory usage: 55.5 KB\n"
     ]
    }
   ],
   "source": [
    "data.info()"
   ]
  },
  {
   "cell_type": "code",
   "execution_count": 137,
   "id": "86a60e2b",
   "metadata": {},
   "outputs": [
    {
     "data": {
      "image/png": "[encoded data removed]",
      "text/plain": [
       "<Figure size 432x288 with 1 Axes>"
      ]
     },
     "metadata": {
      "needs_background": "light"
     },
     "output_type": "display_data"
    }
   ],
   "source": [
    "x='RM'\n",
    "y='MEDV'\n",
    "plt.scatter(data[x],data[y])\n",
    "plt.xlabel(x)\n",
    "plt.ylabel(y)\n",
    "plt.title('RM vs MEDV')\n",
    "plt.show()"
   ]
  },
  {
   "cell_type": "code",
   "execution_count": 138,
   "id": "e74b5b38",
   "metadata": {},
   "outputs": [],
   "source": [
    "\n",
    "target=data[y]\n",
    "x_train,x_test,y_train,y_test=train_test_split(data[[x]],target,test_size=0.33)"
   ]
  },
  {
   "cell_type": "code",
   "execution_count": 139,
   "id": "184967a6",
   "metadata": {},
   "outputs": [
    {
     "data": {
      "text/plain": [
       "(        RM\n",
       " 488  5.454\n",
       " 99   7.416\n",
       " 105  5.851\n",
       " 450  6.749\n",
       " 255  5.876\n",
       " ..     ...\n",
       " 103  6.137\n",
       " 404  5.531\n",
       " 502  6.120\n",
       " 243  6.393\n",
       " 461  6.376\n",
       " \n",
       " [339 rows x 1 columns],\n",
       " 488    15.2\n",
       " 99     33.2\n",
       " 105    19.5\n",
       " 450    13.4\n",
       " 255    20.9\n",
       "        ... \n",
       " 103    19.3\n",
       " 404     8.5\n",
       " 502    20.6\n",
       " 243    23.7\n",
       " 461    17.7\n",
       " Name: MEDV, Length: 339, dtype: float64)"
      ]
     },
     "execution_count": 139,
     "metadata": {},
     "output_type": "execute_result"
    }
   ],
   "source": [
    "x_train,y_train"
   ]
  },
  {
   "cell_type": "code",
   "execution_count": 140,
   "id": "ebddfff7",
   "metadata": {},
   "outputs": [
    {
     "data": {
      "text/plain": [
       "(        RM\n",
       " 231  7.412\n",
       " 261  7.520\n",
       " 55   7.249\n",
       " 298  6.345\n",
       " 280  7.820\n",
       " ..     ...\n",
       " 405  5.683\n",
       " 191  6.739\n",
       " 223  6.618\n",
       " 277  6.826\n",
       " 153  5.709\n",
       " \n",
       " [167 rows x 1 columns],\n",
       " 231    31.7\n",
       " 261    43.1\n",
       " 55     35.4\n",
       " 298    22.5\n",
       " 280    45.4\n",
       "        ... \n",
       " 405     5.0\n",
       " 191    30.5\n",
       " 223    30.1\n",
       " 277    33.1\n",
       " 153    19.4\n",
       " Name: MEDV, Length: 167, dtype: float64)"
      ]
     },
     "execution_count": 140,
     "metadata": {},
     "output_type": "execute_result"
    }
   ],
   "source": [
    "x_test,y_test"
   ]
  },
  {
   "cell_type": "markdown",
   "id": "33414b44",
   "metadata": {},
   "source": [
    "## manual implementation"
   ]
  },
  {
   "cell_type": "code",
   "execution_count": 141,
   "id": "c8033299",
   "metadata": {},
   "outputs": [
    {
     "name": "stdout",
     "output_type": "stream",
     "text": [
      "intercept :  -34.670620776445816  coefficient :  9.102108981181456\n"
     ]
    }
   ],
   "source": [
    "x = data[x]\n",
    "y = data[y]\n",
    "xiyi = x*y\n",
    "n = len(data)\n",
    "xmean = x.mean()\n",
    "ymean = y.mean()\n",
    "numerator = xiyi.sum() - n*xmean*ymean\n",
    "denominator = (x**2).sum() - n*(xmean**2)\n",
    "m = numerator/denominator\n",
    "c = ymean - (m*xmean)\n",
    "print('intercept : ',c,' coefficient : ',m)"
   ]
  },
  {
   "cell_type": "markdown",
   "id": "5019b2b0",
   "metadata": {},
   "source": [
    "## implementation using scikit"
   ]
  },
  {
   "cell_type": "markdown",
   "id": "2327c322",
   "metadata": {},
   "source": [
    "## using whole data"
   ]
  },
  {
   "cell_type": "code",
   "execution_count": 142,
   "id": "fd937c59",
   "metadata": {},
   "outputs": [],
   "source": [
    "from sklearn.linear_model import LinearRegression"
   ]
  },
  {
   "cell_type": "code",
   "execution_count": 143,
   "id": "db655f0b",
   "metadata": {},
   "outputs": [
    {
     "data": {
      "text/plain": [
       "0.48352545599133423"
      ]
     },
     "execution_count": 143,
     "metadata": {},
     "output_type": "execute_result"
    }
   ],
   "source": [
    "lin_reg=LinearRegression()\n",
    "lin_reg.fit(data[['RM']],data['MEDV'])\n",
    "lin_reg.score(data[['RM']],data['MEDV'])"
   ]
  },
  {
   "cell_type": "code",
   "execution_count": 144,
   "id": "510ed535",
   "metadata": {},
   "outputs": [
    {
     "data": {
      "text/plain": [
       "-34.670620776438554"
      ]
     },
     "execution_count": 144,
     "metadata": {},
     "output_type": "execute_result"
    }
   ],
   "source": [
    "lin_reg.intercept_"
   ]
  },
  {
   "cell_type": "code",
   "execution_count": 145,
   "id": "2e18c7e8",
   "metadata": {},
   "outputs": [
    {
     "data": {
      "text/plain": [
       "array([9.10210898])"
      ]
     },
     "execution_count": 145,
     "metadata": {},
     "output_type": "execute_result"
    }
   ],
   "source": [
    "lin_reg.coef_"
   ]
  },
  {
   "cell_type": "markdown",
   "id": "eb4097bd",
   "metadata": {},
   "source": [
    "## using data split into train and test"
   ]
  },
  {
   "cell_type": "code",
   "execution_count": 146,
   "id": "0f1b7191",
   "metadata": {},
   "outputs": [
    {
     "name": "stdout",
     "output_type": "stream",
     "text": [
      "-30.29531248004266 [8.43927436]\n"
     ]
    }
   ],
   "source": [
    "lin_reg=LinearRegression()\n",
    "lin_reg.fit(x_train,y_train)\n",
    "#coef and intercept values of model\n",
    "print(lin_reg.intercept_,lin_reg.coef_)"
   ]
  },
  {
   "cell_type": "markdown",
   "id": "830e1f52",
   "metadata": {},
   "source": [
    "### mse and r_square on training dataset"
   ]
  },
  {
   "cell_type": "code",
   "execution_count": 147,
   "id": "f64a7e1a",
   "metadata": {},
   "outputs": [
    {
     "name": "stdout",
     "output_type": "stream",
     "text": [
      "Mse using built-in 49.41680723333989\n",
      "MSE manually: 49.416807233339846\n"
     ]
    }
   ],
   "source": [
    "from sklearn.metrics import mean_squared_error\n",
    "y_train_pred=lin_reg.predict(x_train)\n",
    "print(\"Mse using built-in\",mean_squared_error(y_train,y_train_pred))\n",
    "sse=sum((y_train-y_train_pred)**2)\n",
    "print(\"MSE manually:\",sse/len(y_train))"
   ]
  },
  {
   "cell_type": "code",
   "execution_count": 148,
   "id": "88f6c69c",
   "metadata": {},
   "outputs": [
    {
     "name": "stdout",
     "output_type": "stream",
     "text": [
      "r_square for training data manually: 0.43020794008783003\n",
      "r_square for training data using built in: 0.4302079400878295\n"
     ]
    }
   ],
   "source": [
    "y_train_mean=y_train.mean()\n",
    "sst=sum((y_train-y_train_mean)**2)\n",
    "ssr=sst-sse\n",
    "r_sq_train=ssr/sst\n",
    "print(\"r_square for training data manually:\",r_sq_train)\n",
    "print(\"r_square for training data using built in:\",lin_reg.score(x_train,y_train))"
   ]
  },
  {
   "cell_type": "markdown",
   "id": "a609f0b2",
   "metadata": {},
   "source": [
    "### mse and r_square on test dataset"
   ]
  },
  {
   "cell_type": "code",
   "execution_count": 149,
   "id": "e3bb3531",
   "metadata": {},
   "outputs": [
    {
     "name": "stdout",
     "output_type": "stream",
     "text": [
      "Mse using built-in 32.58293533320362\n",
      "MSE manually: 32.58293533320363\n"
     ]
    }
   ],
   "source": [
    "y_test_pred=lin_reg.predict(x_test)\n",
    "print(\"Mse using built-in\",mean_squared_error(y_test,y_test_pred))\n",
    "sse_test=sum((y_test-y_test_pred)**2)\n",
    "print(\"MSE manually:\",sse_test/len(y_test))"
   ]
  },
  {
   "cell_type": "code",
   "execution_count": 151,
   "id": "b28ec521",
   "metadata": {},
   "outputs": [
    {
     "name": "stdout",
     "output_type": "stream",
     "text": [
      "r_square for test data manually: 0.5904289315381968\n",
      "r_square for test data using built in: 0.5904289315381972\n"
     ]
    }
   ],
   "source": [
    "y_test_mean=y_test.mean()\n",
    "sst_test=sum((y_test-y_test_mean)**2)\n",
    "ssr_test=sst_test-sse_test\n",
    "r_sq_test=ssr_test/sst_test\n",
    "print(\"r_square for test data manually:\",r_sq_test)\n",
    "print(\"r_square for test data using built in:\",lin_reg.score(x_test,y_test))"
   ]
  },
  {
   "cell_type": "code",
   "execution_count": null,
   "id": "3312078d",
   "metadata": {},
   "outputs": [],
   "source": []
  }
 ],
 "metadata": {
  "kernelspec": {
   "display_name": "Python 3 (ipykernel)",
   "language": "python",
   "name": "python3"
  },
  "language_info": {
   "codemirror_mode": {
    "name": "ipython",
    "version": 3
   },
   "file_extension": ".py",
   "mimetype": "text/x-python",
   "name": "python",
   "nbconvert_exporter": "python",
   "pygments_lexer": "ipython3",
   "version": "3.11.5"
  }
 },
 "nbformat": 4,
 "nbformat_minor": 5
}
